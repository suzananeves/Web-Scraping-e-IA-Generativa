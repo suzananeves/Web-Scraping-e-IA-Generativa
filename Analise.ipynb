{
 "cells": [
  {
   "cell_type": "code",
   "execution_count": 48,
   "id": "ac5a56f5",
   "metadata": {},
   "outputs": [],
   "source": [
    "#Importamos 4 bibliotecas:\n",
    "#BeautifulSoup para lidar com html\n",
    "from bs4 import BeautifulSoup\n",
    "#Requests para obter dados de uma pagina na web\n",
    "import requests\n",
    "#google.generativeai que é a API da IA generativa da Google\n"
   ]
  },
  {
   "cell_type": "code",
   "execution_count": 34,
   "id": "1f58b7cc",
   "metadata": {},
   "outputs": [
    {
     "data": {
      "text/plain": [
       "GenerationConfig(candidate_count=None, stop_sequences=None, max_output_tokens=None, temperature=0.0, top_p=None, top_k=None)"
      ]
     },
     "execution_count": 34,
     "metadata": {},
     "output_type": "execute_result"
    }
   ],
   "source": [
    "#Configuração da IA:\n",
    "\n",
    "#inserção da chave individual para a API\n",
    "genai.configure(api_key='Sua chave')\n",
    "#Configurando qual modelo do gemini vamos usar, o gemini-pro é a mais adequada para textos:\n",
    "model = genai.GenerativeModel('gemini-pro')\n",
    "#Definindo a \"temperatura\" da IA, podemos inserir números de 0.0 a 1.0, quanto mais próximo de 1 mais criativa a IA será\n",
    "genai.GenerationConfig(temperature = 0.0)"
   ]
  },
  {
   "cell_type": "code",
   "execution_count": 35,
   "id": "b483c0b3",
   "metadata": {},
   "outputs": [],
   "source": [
    "#Esse é um link do site vagas.com, de uma pesqisa com vagas para analista de dados, aqui temos a primeira página da pesquisa\n",
    "\n",
    "link='https://www.vagas.com.br/vagas-de-analista-de-dados'"
   ]
  },
  {
   "cell_type": "code",
   "execution_count": 36,
   "id": "6770e6e3",
   "metadata": {},
   "outputs": [],
   "source": [
    "#Com a o método get da biblioteca request, temos o html da página\n",
    "conteudo=requests.get(link)"
   ]
  },
  {
   "cell_type": "code",
   "execution_count": 37,
   "id": "95041606",
   "metadata": {},
   "outputs": [
    {
     "name": "stdout",
     "output_type": "stream",
     "text": [
      "['/vagas/v2617418/analista-de-dados', '/vagas/v2621511/analista-dados-sr', '/vagas/v2621516/analista-dados-sr', '/vagas/v2621983/analista-de-dados', '/vagas/v2619152/analista-de-dados-pleno', '/vagas/v2621787/analista-de-dados-jr', '/vagas/v2623827/analista-de-dados-senior', '/vagas/v2617428/analista-jr-de-banco-de-dados', '/vagas/v2618239/analista-de-dados-devops', '/vagas/v2618171/analista-de-sistemas-dados', '/vagas/v2622362/analista-de-dados-clinicos-ii', '/vagas/v2624427/analista-de-processo-e-dados-junior', '/vagas/v2625002/analista-de-infraestrutura-de-dados', '/vagas/v2617984/analista-de-dados-em-power-bi', '/vagas/v2623328/analista-de-banco-de-dados-dba', '/vagas/v2617417/dba-oracle-analista-de-banco-de-dados', '/vagas/v2627425/analista-de-laboratorio-senior-temporario-integridade-de-dados', '/vagas/v2624875/analista-dados-mestre-pleno-afirmativa-para-pcd', '/vagas/v2624154/analista-de-recursos-humanos-jr-dados-indicadores-e-governanca', '/vagas/v2627111/analista-de-dados-senior-listings-exclusiva-para-profissionais-com-deficiencia', '/vagas/v2621222/analista-i', '/vagas/v2612641/analista-i-analista-de-projetos-jr-100-presencial', '/vagas/v2617935/analista-bi-sr', '/vagas/v2623378/analista-bi-sr', '/vagas/v2623832/analista-marketing-sr', '/vagas/v2619096/analista-de-marketing', '/vagas/v2619172/analista-pcp-sr', '/vagas/v2623831/analista-planejamento-jr', '/vagas/v2626484/analista-desenvolvedor-pl', '/vagas/v2626785/analista-tributario-jr', '/vagas/v2617582/analista-comercial-senior', '/vagas/v2606592/analista-de-operacoes-sr-i', '/vagas/v2618372/analista-de-remuneracao-pl', '/vagas/v2624864/analista-de-e-commerce', '/vagas/v2596041/analista-de-bi-pleno', '/vagas/v2622173/analista-de-qualidade-pl', '/vagas/v2626983/analista-de-sistemas-i', '/vagas/v2619181/analista-de-inventario', '/vagas/v2614423/analista-de-planejamento', '/vagas/v2626030/analista-de-s-op-pleno']\n"
     ]
    }
   ],
   "source": [
    "soup=BeautifulSoup(conteudo.text,'html.parser')\n",
    "#Na página que temos do vagas, ainda não temos a descrição, a página de pesquisa é um página com links para a descrição das vagas, precisamos desse link\n",
    "links_vagas=[]\n",
    "#dentro do atributo \"a\" temos a classe link-detalhes-vaga, é lá que estão o link para a descrição das vagas\n",
    "for link in soup.find_all(\"a\", {\"class\":\"link-detalhes-vaga\"}):\n",
    "    links_vagas.append(link.get('href'))\n",
    "#Adicionamos os links a uma lista e imprimimos:    \n",
    "print(links_vagas)"
   ]
  },
  {
   "cell_type": "code",
   "execution_count": 38,
   "id": "1f9c6271",
   "metadata": {},
   "outputs": [],
   "source": [
    "#criamos uma string para armazenar os resultados\n",
    "texto_resultado=\" \"\n",
    "for link in links_vagas:\n",
    "    #os links da lista no item anterior estão incompletos, vamos completar e acessar o html:\n",
    "    link3=\"https://www.vagas.com.br\"+link\n",
    "    conteudo=requests.get(link3)\n",
    "    soup2=BeautifulSoup(conteudo.text,'html.parser')\n",
    "    #Dentro do html vamos pegar a area onde tem a descrição da vaga\n",
    "    texto=(soup2.find_all(\"div\", {\"data-testid\":\"JobDescription\"}))\n",
    "    #Para processar melhor a resposta, foi substituida a tag span que apaerecia no resultado\n",
    "    y=str(texto).replace(\"</span>\",\" \")\n",
    "    z=BeautifulSoup(y,'html.parser')\n",
    "    #Pedi para a IA retirar as hard skills de dentro da descrição da vaga, e colocar ela de forma resumida, além disso o resultado precisa ser semelhante a uma lista em python\n",
    "    response = model.generate_content(\"com base no texto a seguir, e lembrando que é proibido colocar hifen ou traço na resposta, separe as hard skills que o profissional deve ter, resumindo a hard skill com até 4 palavras e deixando apenas uma hard Skill por linha, se tiver mais de uma ferramenta na mesma linha, separe e coloque em outra linha. Ex: R/python, deve ser separado e estar R em uma linha e python em outra. Não coloque palavras extras, a resposta deve ser uma lista em python, com os itens separados por virgula e cada linha entre aspas, não esqueça dos colchetes\"+z.get_text())\n",
    "    #Adicionamos a variavel de resultado\n",
    "    texto_resultado=texto_resultado+\",\"+response.text"
   ]
  },
  {
   "cell_type": "code",
   "execution_count": 39,
   "id": "203566dd",
   "metadata": {},
   "outputs": [
    {
     "name": "stdout",
     "output_type": "stream",
     "text": [
      " ,[\"Análise de Dados\",\n",
      " \"Desenvolvimento de Queries\",\n",
      " \"Mineração de Dados\",\n",
      " \"Previsão de Datas Comemorativas\",\n",
      " \"Automação de Processos\",\n",
      " \"Desenvolvimento de Relatórios\",\n",
      " \"Dashboard e Gráficos\",\n",
      " \"Integração de Dados\",\n",
      " \"Machine Learning\",\n",
      " \"Otimização de Processos ETL\",\n",
      " \"Manutenção de Views\",\n",
      " \"Refatoração de Códigos\",\n",
      " \"Extração de Dados via API\",\n",
      " \"Documentação de Linhagens\",\n",
      " \"Criação de Dicionário de Dados\",\n",
      " \"Análise de Dados com Power BI\",\n",
      " \"Colaboração Estratégica\"],[\n",
      "\"PowerBI\",\n",
      "\"SQL\",\n",
      "\"Modelagem de Dados OLTP\",\n",
      "\"Modelagem de Dados OLAP\",\n",
      "\"Conceitos Datalake\",\n",
      "\"Conceitos Lakehouse\",\n",
      "\"ETL/ELT\",\n",
      "\"Metodologia Ágil\",\n",
      "\"Inglês leitura\"\n",
      "],[\n",
      "\"PowerBI\", \n",
      "\"SQL\", \n",
      "\"Modelagem de Dados OLTP\", \n",
      "\"Modelagem de Dados OLAP\", \n",
      "\"Conceitos Datalake\", \n",
      "\"Conceitos Lakehouse\", \n",
      "\"ETL/ELT\", \n",
      "\"Metodologia Ágil\", \n",
      "\"Inglês leitura\"\n",
      "],[\"Power BI\",\n",
      " \"Excel avançado\"],[\n",
      "\"Power BI\",\n",
      "\"Excel\",\n",
      "\"SQL\",\n",
      "\"Python\",\n",
      "\"VBA\",\n",
      "\"TOTVS\"\n",
      "],[\"ETL / ELT\", \"Construção de dataset\", \"Governança de objetos\", \"Manutenção de banco de dados\", \"Inovação e cultura de dados\", \"Estabelecimento e defesa de melhores práticas\"],[\n",
      "\"RD CRM\",\n",
      "\"Exact Sales\",\n",
      "\"Data Studio\",\n",
      "\"Looker\",\n",
      "\"Excel\",\n",
      "\"Jira\",\n",
      "\"G Suite\"\n",
      "],[\n",
      "\"Zendesk\",\n",
      "\"SQL\",\n",
      "\"DataPump\",\n",
      "\"RMAN\",\n",
      "\"MSSQL\",\n",
      "\"Oracle\",\n",
      "\"SQL Server\",\n",
      "\"PostgreSQL\"\n",
      "],[\n",
      "\"Automação provisionamento\",\n",
      "\"Implantação e escalabilidade infraestrutura\",\n",
      "\"Powershell\",\n",
      "\"Bash\",\n",
      "\"Nuvem (AWS, GCP, Azure)\",\n",
      "\"Processos automatizados CI/CD\",\n",
      "\"Linguagem java ou go ou c#\",\n",
      "\"Framework spring boot\",\n",
      "\"Wildfly\",\n",
      "\"Kubernetes\",\n",
      "\"Git\"\n",
      "],[\n",
      "\"Modelos de dados\",\n",
      "\"Design de banco de dados\",\n",
      "\"Mineração de dados\",\n",
      "\"Técnicas de segmentação\",\n",
      "\"BusinessObjects\",\n",
      "\"SQL\",\n",
      "\"XML\",\n",
      "\"JavaScript\",\n",
      "\"Estruturas ETL\",\n",
      "\"Estatística\",\n",
      "\"Excel\",\n",
      "\"SPSS\",\n",
      "\"SAS\"\n",
      "],[\"Excel\", \"Banco de dados\"],['Análise de dados', 'Mapeamento de processos', 'Análise exploratória de dados', 'Modelagem estatística', 'Aprendizado de máquina', 'Criação e manutenção de dashboards', 'ETL', 'Modelagem de dados', 'Análise preditiva', 'Análise descritiva', 'Automação de processos', 'Python', 'R', 'SQL', 'Excel avançado', 'Tableau', 'Power BI', 'Qlik Sense', 'QlikView'],[\n",
      "\"Logica de redes\", \n",
      "\"TCP/IP\", \n",
      "\"Hardware\", \n",
      "\"Software\", \n",
      "\"Gerenciamento de dispositivos móveis\", \n",
      "\"Gerenciamento de dados\"\n",
      "],[\n",
      "\"Power Point\",\n",
      "\"Excel\",\n",
      "\"Power BI\"\n",
      "],[\"SQL Server\",\n",
      " \"Linux\",\n",
      " \"Windows\",\n",
      " \"AD\",\n",
      " \"Análise de desempenho\",\n",
      " \"IIS\",\n",
      " \"Apache\",\n",
      " \"System analysis\",\n",
      " \"Tuning\"],[\n",
      "\"Oracle Database\", \n",
      "\"Migração de Dados\", \n",
      "\"Segurança de Dados\", \n",
      "\"Otimização de Desempenho\", \n",
      "\"Backup e Recuperação\", \n",
      "\"Integração de Sistemas\"\n",
      "],[\"Análise analítica\", \"Elaboração de relatórios\", \"Suporte técnico\", \"Elaboração de documentos\", \"Preparo de soluções\", \"Controle de qualidade\", \"Instrução técnica\", \"Atuação em controle de qualidade\", \"Interface com clientes\", \"Conferência de documentação\"],[\"SAP\",\n",
      " \"Pacote Office\"],[\"Excel avançado\", \"Power point\"],[\"SQL\",\n",
      " \"Python\",\n",
      " \"Ferramentas de Visualização de Dados\"],[\n",
      "\"Excel Avançado\",\n",
      "\"Power BI\"\n",
      "],[\n",
      "\"Microsoft Project\",\n",
      "\"Power BI\"\n",
      "],[\"Microsoft Power BI\", \"SQL\", \"Oracle\", \"Power Point\", \"Storytelling\"],[\n",
      "\"Tecnologia de Business Intelligence\",\n",
      "\"Tecnologia de Banco de Dados\",\n",
      "\"Fórmulas DAX\",\n",
      "\"Banco de Dados Oracle\",\n",
      "\"Banco de Dados SQL Server\",\n",
      "\"Desenvolvimento Web PHP\",\n",
      "\"Desenvolvimento Web Apex\"\n",
      "],['Prática em rotinas de análise de dados',\n",
      " 'Vivência em rotinas de gestão de preços e dados de mercados',\n",
      " 'Bons conhecimentos com ferramentas Office',\n",
      " 'Excel',\n",
      " 'Power Point'],[\n",
      "\"Análise de Dados\",\n",
      "\"Criação de Conteúdo\",\n",
      "\"Gerenciamento de Campanhas\",\n",
      "\"Desenvolvimento de Estratégias de Marketing\"\n",
      "],[\"Planejamento e controle de produção\"\n",
      " \"Análise de dados\"\n",
      " \"Elaboração de KPIs\"],[\n",
      "\"Excel\",\n",
      "\"Power Point\",\n",
      "\"Comunicação\",\n",
      "\"Apresentação\"\n",
      "],[\n",
      "\"linguagem de programação\",\n",
      "\"banco de dados\",\n",
      "\"ferramenta de TI\",\n",
      "\"macros\",\n",
      "\"Azure/AWS\"\n",
      "],[\n",
      "\"Tributos Diretos\",\n",
      "\"Legislação Tributária\",\n",
      "\"Tributos Federais\",\n",
      "\"TOTVS\"\n",
      "],[\n",
      "\"Análise de dados\",\n",
      "\"Gestão de equipe\",\n",
      "\"Inglês avançado\"\n",
      "],[\n",
      "\"Power BI\",\n",
      "\"Inglês\",\n",
      "\"Pacote Office\"\n",
      "],[\n",
      "\"Avaliar cargos\",\n",
      "\"Analisar contratações\",\n",
      "\"Atualizar tabela salarial\",\n",
      "\"Conduzir pesquisa salarial\",\n",
      "\"Suportar orçamento de pessoal\",\n",
      "\"Calcular remuneração variável\",\n",
      "\"Criar indicadores\",\n",
      "\"Desenvolver projetos\",\n",
      "\"Fazer interface global\",\n",
      "\"Suportar gestores\"\n",
      "],[\"Pacote Office\", \"Meta, GTM\", \"B.O. SAP\", \"Mídia, ferramentas 3rd party\", \"Excel Avançado\", \"Google analytics\", \"Relatórios, planilhas\"],[\n",
      "\"Power BI\",\n",
      "\"SQL Server\",\n",
      "\"ETL\",\n",
      "\"Datalake\",\n",
      "\"Excel\",\n",
      "\"Azure DevOps\",\n",
      "\"R\",\n",
      "\"Python\"\n",
      "],[\"Excel\", \"Power BI\"],[\n",
      "\"Experiencia com Medlynx\",\n",
      "\"Linguagem SQL\",\n",
      "\"Criacao de relatorios\",\n",
      "\"Dashboards\",\n",
      "\"Extracao de informacoes via Banco de Dados\",\n",
      "\"Conhecimentos em processos de negocios\"\n",
      "],[\"Extrair Relatórios\", \"Automatizar Ferramentas\", \"Analisar Indicadores\", \"Analisar Transações\", \"Mapear Processos\", \"Elaboração de Treinamentos\"],[\n",
      "\"Pacote Office Avançado\",\n",
      "\"Excel\",\n",
      "\"Outlook\",\n",
      "\"Power Point\",\n",
      "\"Word\",\n",
      "\"Ibope Monitor\",\n",
      "\"TGI\",\n",
      "\"Geofusion\",\n",
      "\"Mapa OOH\"\n",
      "],[\n",
      "\"Excel Avançado\",\n",
      "\"Previsão/Modelagem de Demanda\",\n",
      "\"Experiência com S&OP\",\n",
      "\"SAP\",\n",
      "\"Power BI/QlikSense\"\n",
      "]\n"
     ]
    }
   ],
   "source": [
    "#Como resultado temos:\n",
    "print(texto_resultado)"
   ]
  },
  {
   "cell_type": "code",
   "execution_count": 40,
   "id": "4664956d",
   "metadata": {},
   "outputs": [],
   "source": [
    "#Temos algo semelhante a uma lista de lista, porém, tem um virgula a mais no inicio, vamos retirar ela:\n",
    "Lista_texto=texto_resultado[2:]"
   ]
  },
  {
   "cell_type": "code",
   "execution_count": 41,
   "id": "1fcc4a5f",
   "metadata": {},
   "outputs": [
    {
     "name": "stdout",
     "output_type": "stream",
     "text": [
      "[['Análise de Dados', 'Desenvolvimento de Queries', 'Mineração de Dados', 'Previsão de Datas Comemorativas', 'Automação de Processos', 'Desenvolvimento de Relatórios', 'Dashboard e Gráficos', 'Integração de Dados', 'Machine Learning', 'Otimização de Processos ETL', 'Manutenção de Views', 'Refatoração de Códigos', 'Extração de Dados via API', 'Documentação de Linhagens', 'Criação de Dicionário de Dados', 'Análise de Dados com Power BI', 'Colaboração Estratégica'], ['PowerBI', 'SQL', 'Modelagem de Dados OLTP', 'Modelagem de Dados OLAP', 'Conceitos Datalake', 'Conceitos Lakehouse', 'ETL/ELT', 'Metodologia Ágil', 'Inglês leitura'], ['PowerBI', 'SQL', 'Modelagem de Dados OLTP', 'Modelagem de Dados OLAP', 'Conceitos Datalake', 'Conceitos Lakehouse', 'ETL/ELT', 'Metodologia Ágil', 'Inglês leitura'], ['Power BI', 'Excel avançado'], ['Power BI', 'Excel', 'SQL', 'Python', 'VBA', 'TOTVS'], ['ETL / ELT', 'Construção de dataset', 'Governança de objetos', 'Manutenção de banco de dados', 'Inovação e cultura de dados', 'Estabelecimento e defesa de melhores práticas'], ['RD CRM', 'Exact Sales', 'Data Studio', 'Looker', 'Excel', 'Jira', 'G Suite'], ['Zendesk', 'SQL', 'DataPump', 'RMAN', 'MSSQL', 'Oracle', 'SQL Server', 'PostgreSQL'], ['Automação provisionamento', 'Implantação e escalabilidade infraestrutura', 'Powershell', 'Bash', 'Nuvem (AWS, GCP, Azure)', 'Processos automatizados CI/CD', 'Linguagem java ou go ou c#', 'Framework spring boot', 'Wildfly', 'Kubernetes', 'Git'], ['Modelos de dados', 'Design de banco de dados', 'Mineração de dados', 'Técnicas de segmentação', 'BusinessObjects', 'SQL', 'XML', 'JavaScript', 'Estruturas ETL', 'Estatística', 'Excel', 'SPSS', 'SAS'], ['Excel', 'Banco de dados'], ['Análise de dados', 'Mapeamento de processos', 'Análise exploratória de dados', 'Modelagem estatística', 'Aprendizado de máquina', 'Criação e manutenção de dashboards', 'ETL', 'Modelagem de dados', 'Análise preditiva', 'Análise descritiva', 'Automação de processos', 'Python', 'R', 'SQL', 'Excel avançado', 'Tableau', 'Power BI', 'Qlik Sense', 'QlikView'], ['Logica de redes', 'TCP/IP', 'Hardware', 'Software', 'Gerenciamento de dispositivos móveis', 'Gerenciamento de dados'], ['Power Point', 'Excel', 'Power BI'], ['SQL Server', 'Linux', 'Windows', 'AD', 'Análise de desempenho', 'IIS', 'Apache', 'System analysis', 'Tuning'], ['Oracle Database', 'Migração de Dados', 'Segurança de Dados', 'Otimização de Desempenho', 'Backup e Recuperação', 'Integração de Sistemas'], ['Análise analítica', 'Elaboração de relatórios', 'Suporte técnico', 'Elaboração de documentos', 'Preparo de soluções', 'Controle de qualidade', 'Instrução técnica', 'Atuação em controle de qualidade', 'Interface com clientes', 'Conferência de documentação'], ['SAP', 'Pacote Office'], ['Excel avançado', 'Power point'], ['SQL', 'Python', 'Ferramentas de Visualização de Dados'], ['Excel Avançado', 'Power BI'], ['Microsoft Project', 'Power BI'], ['Microsoft Power BI', 'SQL', 'Oracle', 'Power Point', 'Storytelling'], ['Tecnologia de Business Intelligence', 'Tecnologia de Banco de Dados', 'Fórmulas DAX', 'Banco de Dados Oracle', 'Banco de Dados SQL Server', 'Desenvolvimento Web PHP', 'Desenvolvimento Web Apex'], ['Prática em rotinas de análise de dados', 'Vivência em rotinas de gestão de preços e dados de mercados', 'Bons conhecimentos com ferramentas Office', 'Excel', 'Power Point'], ['Análise de Dados', 'Criação de Conteúdo', 'Gerenciamento de Campanhas', 'Desenvolvimento de Estratégias de Marketing'], ['Planejamento e controle de produçãoAnálise de dadosElaboração de KPIs'], ['Excel', 'Power Point', 'Comunicação', 'Apresentação'], ['linguagem de programação', 'banco de dados', 'ferramenta de TI', 'macros', 'Azure/AWS'], ['Tributos Diretos', 'Legislação Tributária', 'Tributos Federais', 'TOTVS'], ['Análise de dados', 'Gestão de equipe', 'Inglês avançado'], ['Power BI', 'Inglês', 'Pacote Office'], ['Avaliar cargos', 'Analisar contratações', 'Atualizar tabela salarial', 'Conduzir pesquisa salarial', 'Suportar orçamento de pessoal', 'Calcular remuneração variável', 'Criar indicadores', 'Desenvolver projetos', 'Fazer interface global', 'Suportar gestores'], ['Pacote Office', 'Meta, GTM', 'B.O. SAP', 'Mídia, ferramentas 3rd party', 'Excel Avançado', 'Google analytics', 'Relatórios, planilhas'], ['Power BI', 'SQL Server', 'ETL', 'Datalake', 'Excel', 'Azure DevOps', 'R', 'Python'], ['Excel', 'Power BI'], ['Experiencia com Medlynx', 'Linguagem SQL', 'Criacao de relatorios', 'Dashboards', 'Extracao de informacoes via Banco de Dados', 'Conhecimentos em processos de negocios'], ['Extrair Relatórios', 'Automatizar Ferramentas', 'Analisar Indicadores', 'Analisar Transações', 'Mapear Processos', 'Elaboração de Treinamentos'], ['Pacote Office Avançado', 'Excel', 'Outlook', 'Power Point', 'Word', 'Ibope Monitor', 'TGI', 'Geofusion', 'Mapa OOH'], ['Excel Avançado', 'Previsão/Modelagem de Demanda', 'Experiência com S&OP', 'SAP', 'Power BI/QlikSense']]\n"
     ]
    }
   ],
   "source": [
    "# A IA também pulou linha, o que não é interessante para a análise, por isso vamos retirar as quebras de linha:\n",
    "Lista_texto =(Lista_texto).replace('\\n', '')\n",
    "#Agora podemos efetivamente transformar em uma lista de listas:\n",
    "Lista_texto=list(eval(Lista_texto))\n",
    "\n",
    "#Como resultado:\n",
    "print(Lista_texto)"
   ]
  },
  {
   "cell_type": "code",
   "execution_count": 42,
   "id": "0e3d8658",
   "metadata": {},
   "outputs": [
    {
     "name": "stdout",
     "output_type": "stream",
     "text": [
      "['Análise de Dados', 'Desenvolvimento de Queries', 'Mineração de Dados', 'Previsão de Datas Comemorativas', 'Automação de Processos', 'Desenvolvimento de Relatórios', 'Dashboard e Gráficos', 'Integração de Dados', 'Machine Learning', 'Otimização de Processos ETL', 'Manutenção de Views', 'Refatoração de Códigos', 'Extração de Dados via API', 'Documentação de Linhagens', 'Criação de Dicionário de Dados', 'Análise de Dados com Power BI', 'Colaboração Estratégica', 'PowerBI', 'SQL', 'Modelagem de Dados OLTP', 'Modelagem de Dados OLAP', 'Conceitos Datalake', 'Conceitos Lakehouse', 'ETL/ELT', 'Metodologia Ágil', 'Inglês leitura', 'PowerBI', 'SQL', 'Modelagem de Dados OLTP', 'Modelagem de Dados OLAP', 'Conceitos Datalake', 'Conceitos Lakehouse', 'ETL/ELT', 'Metodologia Ágil', 'Inglês leitura', 'Power BI', 'Excel avançado', 'Power BI', 'Excel', 'SQL', 'Python', 'VBA', 'TOTVS', 'ETL / ELT', 'Construção de dataset', 'Governança de objetos', 'Manutenção de banco de dados', 'Inovação e cultura de dados', 'Estabelecimento e defesa de melhores práticas', 'RD CRM', 'Exact Sales', 'Data Studio', 'Looker', 'Excel', 'Jira', 'G Suite', 'Zendesk', 'SQL', 'DataPump', 'RMAN', 'MSSQL', 'Oracle', 'SQL Server', 'PostgreSQL', 'Automação provisionamento', 'Implantação e escalabilidade infraestrutura', 'Powershell', 'Bash', 'Nuvem (AWS, GCP, Azure)', 'Processos automatizados CI/CD', 'Linguagem java ou go ou c#', 'Framework spring boot', 'Wildfly', 'Kubernetes', 'Git', 'Modelos de dados', 'Design de banco de dados', 'Mineração de dados', 'Técnicas de segmentação', 'BusinessObjects', 'SQL', 'XML', 'JavaScript', 'Estruturas ETL', 'Estatística', 'Excel', 'SPSS', 'SAS', 'Excel', 'Banco de dados', 'Análise de dados', 'Mapeamento de processos', 'Análise exploratória de dados', 'Modelagem estatística', 'Aprendizado de máquina', 'Criação e manutenção de dashboards', 'ETL', 'Modelagem de dados', 'Análise preditiva', 'Análise descritiva', 'Automação de processos', 'Python', 'R', 'SQL', 'Excel avançado', 'Tableau', 'Power BI', 'Qlik Sense', 'QlikView', 'Logica de redes', 'TCP/IP', 'Hardware', 'Software', 'Gerenciamento de dispositivos móveis', 'Gerenciamento de dados', 'Power Point', 'Excel', 'Power BI', 'SQL Server', 'Linux', 'Windows', 'AD', 'Análise de desempenho', 'IIS', 'Apache', 'System analysis', 'Tuning', 'Oracle Database', 'Migração de Dados', 'Segurança de Dados', 'Otimização de Desempenho', 'Backup e Recuperação', 'Integração de Sistemas', 'Análise analítica', 'Elaboração de relatórios', 'Suporte técnico', 'Elaboração de documentos', 'Preparo de soluções', 'Controle de qualidade', 'Instrução técnica', 'Atuação em controle de qualidade', 'Interface com clientes', 'Conferência de documentação', 'SAP', 'Pacote Office', 'Excel avançado', 'Power point', 'SQL', 'Python', 'Ferramentas de Visualização de Dados', 'Excel Avançado', 'Power BI', 'Microsoft Project', 'Power BI', 'Microsoft Power BI', 'SQL', 'Oracle', 'Power Point', 'Storytelling', 'Tecnologia de Business Intelligence', 'Tecnologia de Banco de Dados', 'Fórmulas DAX', 'Banco de Dados Oracle', 'Banco de Dados SQL Server', 'Desenvolvimento Web PHP', 'Desenvolvimento Web Apex', 'Prática em rotinas de análise de dados', 'Vivência em rotinas de gestão de preços e dados de mercados', 'Bons conhecimentos com ferramentas Office', 'Excel', 'Power Point', 'Análise de Dados', 'Criação de Conteúdo', 'Gerenciamento de Campanhas', 'Desenvolvimento de Estratégias de Marketing', 'Planejamento e controle de produçãoAnálise de dadosElaboração de KPIs', 'Excel', 'Power Point', 'Comunicação', 'Apresentação', 'linguagem de programação', 'banco de dados', 'ferramenta de TI', 'macros', 'Azure/AWS', 'Tributos Diretos', 'Legislação Tributária', 'Tributos Federais', 'TOTVS', 'Análise de dados', 'Gestão de equipe', 'Inglês avançado', 'Power BI', 'Inglês', 'Pacote Office', 'Avaliar cargos', 'Analisar contratações', 'Atualizar tabela salarial', 'Conduzir pesquisa salarial', 'Suportar orçamento de pessoal', 'Calcular remuneração variável', 'Criar indicadores', 'Desenvolver projetos', 'Fazer interface global', 'Suportar gestores', 'Pacote Office', 'Meta, GTM', 'B.O. SAP', 'Mídia, ferramentas 3rd party', 'Excel Avançado', 'Google analytics', 'Relatórios, planilhas', 'Power BI', 'SQL Server', 'ETL', 'Datalake', 'Excel', 'Azure DevOps', 'R', 'Python', 'Excel', 'Power BI', 'Experiencia com Medlynx', 'Linguagem SQL', 'Criacao de relatorios', 'Dashboards', 'Extracao de informacoes via Banco de Dados', 'Conhecimentos em processos de negocios', 'Extrair Relatórios', 'Automatizar Ferramentas', 'Analisar Indicadores', 'Analisar Transações', 'Mapear Processos', 'Elaboração de Treinamentos', 'Pacote Office Avançado', 'Excel', 'Outlook', 'Power Point', 'Word', 'Ibope Monitor', 'TGI', 'Geofusion', 'Mapa OOH', 'Excel Avançado', 'Previsão/Modelagem de Demanda', 'Experiência com S&OP', 'SAP', 'Power BI/QlikSense']\n"
     ]
    }
   ],
   "source": [
    "#A IA retornou algo parecido como uma lista de listas, mas será mais interessante uma lista unica:\n",
    "lista_final = sum(Lista_texto, [])\n",
    "print(lista_final)"
   ]
  },
  {
   "cell_type": "code",
   "execution_count": 43,
   "id": "90927ca4",
   "metadata": {},
   "outputs": [
    {
     "name": "stdout",
     "output_type": "stream",
     "text": [
      "{'Análise de Dados': 2, 'Desenvolvimento de Queries': 1, 'Mineração de Dados': 1, 'Previsão de Datas Comemorativas': 1, 'Automação de Processos': 1, 'Desenvolvimento de Relatórios': 1, 'Dashboard e Gráficos': 1, 'Integração de Dados': 1, 'Machine Learning': 1, 'Otimização de Processos ETL': 1, 'Manutenção de Views': 1, 'Refatoração de Códigos': 1, 'Extração de Dados via API': 1, 'Documentação de Linhagens': 1, 'Criação de Dicionário de Dados': 1, 'Análise de Dados com Power BI': 1, 'Colaboração Estratégica': 1, 'PowerBI': 2, 'SQL': 8, 'Modelagem de Dados OLTP': 2, 'Modelagem de Dados OLAP': 2, 'Conceitos Datalake': 2, 'Conceitos Lakehouse': 2, 'ETL/ELT': 2, 'Metodologia Ágil': 2, 'Inglês leitura': 2, 'Power BI': 9, 'Excel avançado': 3, 'Excel': 10, 'Python': 4, 'VBA': 1, 'TOTVS': 2, 'ETL / ELT': 1, 'Construção de dataset': 1, 'Governança de objetos': 1, 'Manutenção de banco de dados': 1, 'Inovação e cultura de dados': 1, 'Estabelecimento e defesa de melhores práticas': 1, 'RD CRM': 1, 'Exact Sales': 1, 'Data Studio': 1, 'Looker': 1, 'Jira': 1, 'G Suite': 1, 'Zendesk': 1, 'DataPump': 1, 'RMAN': 1, 'MSSQL': 1, 'Oracle': 2, 'SQL Server': 3, 'PostgreSQL': 1, 'Automação provisionamento': 1, 'Implantação e escalabilidade infraestrutura': 1, 'Powershell': 1, 'Bash': 1, 'Nuvem (AWS, GCP, Azure)': 1, 'Processos automatizados CI/CD': 1, 'Linguagem java ou go ou c#': 1, 'Framework spring boot': 1, 'Wildfly': 1, 'Kubernetes': 1, 'Git': 1, 'Modelos de dados': 1, 'Design de banco de dados': 1, 'Mineração de dados': 1, 'Técnicas de segmentação': 1, 'BusinessObjects': 1, 'XML': 1, 'JavaScript': 1, 'Estruturas ETL': 1, 'Estatística': 1, 'SPSS': 1, 'SAS': 1, 'Banco de dados': 1, 'Análise de dados': 2, 'Mapeamento de processos': 1, 'Análise exploratória de dados': 1, 'Modelagem estatística': 1, 'Aprendizado de máquina': 1, 'Criação e manutenção de dashboards': 1, 'ETL': 2, 'Modelagem de dados': 1, 'Análise preditiva': 1, 'Análise descritiva': 1, 'Automação de processos': 1, 'R': 2, 'Tableau': 1, 'Qlik Sense': 1, 'QlikView': 1, 'Logica de redes': 1, 'TCP/IP': 1, 'Hardware': 1, 'Software': 1, 'Gerenciamento de dispositivos móveis': 1, 'Gerenciamento de dados': 1, 'Power Point': 5, 'Linux': 1, 'Windows': 1, 'AD': 1, 'Análise de desempenho': 1, 'IIS': 1, 'Apache': 1, 'System analysis': 1, 'Tuning': 1, 'Oracle Database': 1, 'Migração de Dados': 1, 'Segurança de Dados': 1, 'Otimização de Desempenho': 1, 'Backup e Recuperação': 1, 'Integração de Sistemas': 1, 'Análise analítica': 1, 'Elaboração de relatórios': 1, 'Suporte técnico': 1, 'Elaboração de documentos': 1, 'Preparo de soluções': 1, 'Controle de qualidade': 1, 'Instrução técnica': 1, 'Atuação em controle de qualidade': 1, 'Interface com clientes': 1, 'Conferência de documentação': 1, 'SAP': 2, 'Pacote Office': 3, 'Power point': 1, 'Ferramentas de Visualização de Dados': 1, 'Excel Avançado': 3, 'Microsoft Project': 1, 'Microsoft Power BI': 1, 'Storytelling': 1, 'Tecnologia de Business Intelligence': 1, 'Tecnologia de Banco de Dados': 1, 'Fórmulas DAX': 1, 'Banco de Dados Oracle': 1, 'Banco de Dados SQL Server': 1, 'Desenvolvimento Web PHP': 1, 'Desenvolvimento Web Apex': 1, 'Prática em rotinas de análise de dados': 1, 'Vivência em rotinas de gestão de preços e dados de mercados': 1, 'Bons conhecimentos com ferramentas Office': 1, 'Criação de Conteúdo': 1, 'Gerenciamento de Campanhas': 1, 'Desenvolvimento de Estratégias de Marketing': 1, 'Planejamento e controle de produçãoAnálise de dadosElaboração de KPIs': 1, 'Comunicação': 1, 'Apresentação': 1, 'linguagem de programação': 1, 'banco de dados': 1, 'ferramenta de TI': 1, 'macros': 1, 'Azure/AWS': 1, 'Tributos Diretos': 1, 'Legislação Tributária': 1, 'Tributos Federais': 1, 'Gestão de equipe': 1, 'Inglês avançado': 1, 'Inglês': 1, 'Avaliar cargos': 1, 'Analisar contratações': 1, 'Atualizar tabela salarial': 1, 'Conduzir pesquisa salarial': 1, 'Suportar orçamento de pessoal': 1, 'Calcular remuneração variável': 1, 'Criar indicadores': 1, 'Desenvolver projetos': 1, 'Fazer interface global': 1, 'Suportar gestores': 1, 'Meta, GTM': 1, 'B.O. SAP': 1, 'Mídia, ferramentas 3rd party': 1, 'Google analytics': 1, 'Relatórios, planilhas': 1, 'Datalake': 1, 'Azure DevOps': 1, 'Experiencia com Medlynx': 1, 'Linguagem SQL': 1, 'Criacao de relatorios': 1, 'Dashboards': 1, 'Extracao de informacoes via Banco de Dados': 1, 'Conhecimentos em processos de negocios': 1, 'Extrair Relatórios': 1, 'Automatizar Ferramentas': 1, 'Analisar Indicadores': 1, 'Analisar Transações': 1, 'Mapear Processos': 1, 'Elaboração de Treinamentos': 1, 'Pacote Office Avançado': 1, 'Outlook': 1, 'Word': 1, 'Ibope Monitor': 1, 'TGI': 1, 'Geofusion': 1, 'Mapa OOH': 1, 'Previsão/Modelagem de Demanda': 1, 'Experiência com S&OP': 1, 'Power BI/QlikSense': 1}\n"
     ]
    }
   ],
   "source": [
    "#Agora criamos um dicionário para agrupar as palavras iguais e assim vermos os itens mais requisitados\n",
    "dicionario=dict()\n",
    "for item in lista_final:\n",
    "        if item not in dicionario:\n",
    "            dicionario[item] = 1\n",
    "        else:\n",
    "            dicionario[item] += 1\n",
    "            \n",
    "print(dicionario)"
   ]
  },
  {
   "cell_type": "code",
   "execution_count": 44,
   "id": "620cc7f0",
   "metadata": {},
   "outputs": [
    {
     "name": "stdout",
     "output_type": "stream",
     "text": [
      "{'Excel': 10, 'Power BI': 9, 'SQL': 8, 'Power Point': 5, 'Python': 4, 'Excel avançado': 3, 'SQL Server': 3, 'Pacote Office': 3, 'Excel Avançado': 3, 'Análise de Dados': 2, 'PowerBI': 2, 'Modelagem de Dados OLTP': 2, 'Modelagem de Dados OLAP': 2, 'Conceitos Datalake': 2, 'Conceitos Lakehouse': 2, 'ETL/ELT': 2, 'Metodologia Ágil': 2, 'Inglês leitura': 2, 'TOTVS': 2, 'Oracle': 2, 'Análise de dados': 2, 'ETL': 2, 'R': 2, 'SAP': 2, 'Desenvolvimento de Queries': 1, 'Mineração de Dados': 1, 'Previsão de Datas Comemorativas': 1, 'Automação de Processos': 1, 'Desenvolvimento de Relatórios': 1, 'Dashboard e Gráficos': 1, 'Integração de Dados': 1, 'Machine Learning': 1, 'Otimização de Processos ETL': 1, 'Manutenção de Views': 1, 'Refatoração de Códigos': 1, 'Extração de Dados via API': 1, 'Documentação de Linhagens': 1, 'Criação de Dicionário de Dados': 1, 'Análise de Dados com Power BI': 1, 'Colaboração Estratégica': 1, 'VBA': 1, 'ETL / ELT': 1, 'Construção de dataset': 1, 'Governança de objetos': 1, 'Manutenção de banco de dados': 1, 'Inovação e cultura de dados': 1, 'Estabelecimento e defesa de melhores práticas': 1, 'RD CRM': 1, 'Exact Sales': 1, 'Data Studio': 1, 'Looker': 1, 'Jira': 1, 'G Suite': 1, 'Zendesk': 1, 'DataPump': 1, 'RMAN': 1, 'MSSQL': 1, 'PostgreSQL': 1, 'Automação provisionamento': 1, 'Implantação e escalabilidade infraestrutura': 1, 'Powershell': 1, 'Bash': 1, 'Nuvem (AWS, GCP, Azure)': 1, 'Processos automatizados CI/CD': 1, 'Linguagem java ou go ou c#': 1, 'Framework spring boot': 1, 'Wildfly': 1, 'Kubernetes': 1, 'Git': 1, 'Modelos de dados': 1, 'Design de banco de dados': 1, 'Mineração de dados': 1, 'Técnicas de segmentação': 1, 'BusinessObjects': 1, 'XML': 1, 'JavaScript': 1, 'Estruturas ETL': 1, 'Estatística': 1, 'SPSS': 1, 'SAS': 1, 'Banco de dados': 1, 'Mapeamento de processos': 1, 'Análise exploratória de dados': 1, 'Modelagem estatística': 1, 'Aprendizado de máquina': 1, 'Criação e manutenção de dashboards': 1, 'Modelagem de dados': 1, 'Análise preditiva': 1, 'Análise descritiva': 1, 'Automação de processos': 1, 'Tableau': 1, 'Qlik Sense': 1, 'QlikView': 1, 'Logica de redes': 1, 'TCP/IP': 1, 'Hardware': 1, 'Software': 1, 'Gerenciamento de dispositivos móveis': 1, 'Gerenciamento de dados': 1, 'Linux': 1, 'Windows': 1, 'AD': 1, 'Análise de desempenho': 1, 'IIS': 1, 'Apache': 1, 'System analysis': 1, 'Tuning': 1, 'Oracle Database': 1, 'Migração de Dados': 1, 'Segurança de Dados': 1, 'Otimização de Desempenho': 1, 'Backup e Recuperação': 1, 'Integração de Sistemas': 1, 'Análise analítica': 1, 'Elaboração de relatórios': 1, 'Suporte técnico': 1, 'Elaboração de documentos': 1, 'Preparo de soluções': 1, 'Controle de qualidade': 1, 'Instrução técnica': 1, 'Atuação em controle de qualidade': 1, 'Interface com clientes': 1, 'Conferência de documentação': 1, 'Power point': 1, 'Ferramentas de Visualização de Dados': 1, 'Microsoft Project': 1, 'Microsoft Power BI': 1, 'Storytelling': 1, 'Tecnologia de Business Intelligence': 1, 'Tecnologia de Banco de Dados': 1, 'Fórmulas DAX': 1, 'Banco de Dados Oracle': 1, 'Banco de Dados SQL Server': 1, 'Desenvolvimento Web PHP': 1, 'Desenvolvimento Web Apex': 1, 'Prática em rotinas de análise de dados': 1, 'Vivência em rotinas de gestão de preços e dados de mercados': 1, 'Bons conhecimentos com ferramentas Office': 1, 'Criação de Conteúdo': 1, 'Gerenciamento de Campanhas': 1, 'Desenvolvimento de Estratégias de Marketing': 1, 'Planejamento e controle de produçãoAnálise de dadosElaboração de KPIs': 1, 'Comunicação': 1, 'Apresentação': 1, 'linguagem de programação': 1, 'banco de dados': 1, 'ferramenta de TI': 1, 'macros': 1, 'Azure/AWS': 1, 'Tributos Diretos': 1, 'Legislação Tributária': 1, 'Tributos Federais': 1, 'Gestão de equipe': 1, 'Inglês avançado': 1, 'Inglês': 1, 'Avaliar cargos': 1, 'Analisar contratações': 1, 'Atualizar tabela salarial': 1, 'Conduzir pesquisa salarial': 1, 'Suportar orçamento de pessoal': 1, 'Calcular remuneração variável': 1, 'Criar indicadores': 1, 'Desenvolver projetos': 1, 'Fazer interface global': 1, 'Suportar gestores': 1, 'Meta, GTM': 1, 'B.O. SAP': 1, 'Mídia, ferramentas 3rd party': 1, 'Google analytics': 1, 'Relatórios, planilhas': 1, 'Datalake': 1, 'Azure DevOps': 1, 'Experiencia com Medlynx': 1, 'Linguagem SQL': 1, 'Criacao de relatorios': 1, 'Dashboards': 1, 'Extracao de informacoes via Banco de Dados': 1, 'Conhecimentos em processos de negocios': 1, 'Extrair Relatórios': 1, 'Automatizar Ferramentas': 1, 'Analisar Indicadores': 1, 'Analisar Transações': 1, 'Mapear Processos': 1, 'Elaboração de Treinamentos': 1, 'Pacote Office Avançado': 1, 'Outlook': 1, 'Word': 1, 'Ibope Monitor': 1, 'TGI': 1, 'Geofusion': 1, 'Mapa OOH': 1, 'Previsão/Modelagem de Demanda': 1, 'Experiência com S&OP': 1, 'Power BI/QlikSense': 1}\n"
     ]
    }
   ],
   "source": [
    "#Ordenando o dicionário\n",
    "\n",
    "dicionario_ordenado = dict(sorted(dicionario.items(), key=lambda item: item[1], reverse=True))\n",
    "print(dicionario_ordenado)"
   ]
  },
  {
   "cell_type": "code",
   "execution_count": null,
   "id": "bb5e53f0",
   "metadata": {},
   "outputs": [],
   "source": []
  },
  {
   "cell_type": "code",
   "execution_count": null,
   "id": "f692f92f",
   "metadata": {},
   "outputs": [],
   "source": []
  }
 ],
 "metadata": {
  "kernelspec": {
   "display_name": "Python 3 (ipykernel)",
   "language": "python",
   "name": "python3"
  },
  "language_info": {
   "codemirror_mode": {
    "name": "ipython",
    "version": 3
   },
   "file_extension": ".py",
   "mimetype": "text/x-python",
   "name": "python",
   "nbconvert_exporter": "python",
   "pygments_lexer": "ipython3",
   "version": "3.10.9"
  }
 },
 "nbformat": 4,
 "nbformat_minor": 5
}
